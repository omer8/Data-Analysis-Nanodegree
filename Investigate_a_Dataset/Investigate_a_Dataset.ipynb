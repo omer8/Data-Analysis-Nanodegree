{
 "cells": [
  {
   "cell_type": "markdown",
   "metadata": {},
   "source": [
    "> **Tip**: Welcome to the Investigate a Dataset project! You will find tips in quoted sections like this to help organize your approach to your investigation. Before submitting your project, it will be a good idea to go back through your report and remove these sections to make the presentation of your work as tidy as possible. First things first, you might want to double-click this Markdown cell and change the title so that it reflects your dataset and investigation.\n",
    "\n",
    "# Project: Investigate a Dataset (Replace this with something more specific!)\n",
    "\n",
    "## Table of Contents\n",
    "<ul>\n",
    "<li><a href=\"#intro\">Introduction</a></li>\n",
    "<li><a href=\"#wrangling\">Data Wrangling</a></li>\n",
    "<li><a href=\"#eda\">Exploratory Data Analysis</a></li>\n",
    "<li><a href=\"#conclusions\">Conclusions</a></li>\n",
    "</ul>"
   ]
  },
  {
   "cell_type": "markdown",
   "metadata": {},
   "source": [
    "<a id='intro'></a>\n",
    "## Introduction\n",
    "\n",
    "> **Tip**: In this section of the report, provide a brief introduction to the dataset you've selected for analysis. At the end of this section, describe the questions that you plan on exploring over the course of the report. Try to build your report around the analysis of at least one dependent variable and three independent variables. If you're not sure what questions to ask, then make sure you familiarize yourself with the dataset, its variables and the dataset context for ideas of what to explore.\n",
    "\n",
    "> If you haven't yet selected and downloaded your data, make sure you do that first before coming back here. In order to work with the data in this workspace, you also need to upload it to the workspace. To do so, click on the jupyter icon in the upper left to be taken back to the workspace directory. There should be an 'Upload' button in the upper right that will let you add your data file(s) to the workspace. You can then click on the .ipynb file name to come back here."
   ]
  },
  {
   "cell_type": "code",
   "execution_count": 4,
   "metadata": {},
   "outputs": [],
   "source": [
    "# Use this cell to set up import statements for all of the packages that you\n",
    "#   plan to use.\n",
    "import pandas as pd\n",
    "import numpy as np\n",
    "import matplotlib.pyplot as plt\n",
    "import seaborn as sns\n",
    "%matplotlib inline\n",
    "plt.style.use('fivethirtyeight')\n",
    "# Remember to include a 'magic word' so that your visualizations are plotted\n",
    "#   inline with the notebook. See this page for more:\n",
    "#   http://ipython.readthedocs.io/en/stable/interactive/magics.html\n"
   ]
  },
  {
   "cell_type": "markdown",
   "metadata": {},
   "source": [
    "<a id='wrangling'></a>\n",
    "## Data Wrangling\n",
    "\n",
    "> **Tip**: In this section of the report, you will load in the data, check for cleanliness, and then trim and clean your dataset for analysis. Make sure that you document your steps carefully and justify your cleaning decisions.\n",
    "\n",
    "### General Properties"
   ]
  },
  {
   "cell_type": "code",
   "execution_count": 29,
   "metadata": {},
   "outputs": [
    {
     "data": {
      "text/html": [
       "<div>\n",
       "<style scoped>\n",
       "    .dataframe tbody tr th:only-of-type {\n",
       "        vertical-align: middle;\n",
       "    }\n",
       "\n",
       "    .dataframe tbody tr th {\n",
       "        vertical-align: top;\n",
       "    }\n",
       "\n",
       "    .dataframe thead th {\n",
       "        text-align: right;\n",
       "    }\n",
       "</style>\n",
       "<table border=\"1\" class=\"dataframe\">\n",
       "  <thead>\n",
       "    <tr style=\"text-align: right;\">\n",
       "      <th></th>\n",
       "      <th>id</th>\n",
       "      <th>imdb_id</th>\n",
       "      <th>popularity</th>\n",
       "      <th>budget</th>\n",
       "      <th>revenue</th>\n",
       "      <th>original_title</th>\n",
       "      <th>cast</th>\n",
       "      <th>homepage</th>\n",
       "      <th>director</th>\n",
       "      <th>tagline</th>\n",
       "      <th>...</th>\n",
       "      <th>overview</th>\n",
       "      <th>runtime</th>\n",
       "      <th>genres</th>\n",
       "      <th>production_companies</th>\n",
       "      <th>release_date</th>\n",
       "      <th>vote_count</th>\n",
       "      <th>vote_average</th>\n",
       "      <th>release_year</th>\n",
       "      <th>budget_adj</th>\n",
       "      <th>revenue_adj</th>\n",
       "    </tr>\n",
       "  </thead>\n",
       "  <tbody>\n",
       "    <tr>\n",
       "      <th>0</th>\n",
       "      <td>135397</td>\n",
       "      <td>tt0369610</td>\n",
       "      <td>32.985763</td>\n",
       "      <td>150000000</td>\n",
       "      <td>1513528810</td>\n",
       "      <td>Jurassic World</td>\n",
       "      <td>Chris Pratt|Bryce Dallas Howard|Irrfan Khan|Vi...</td>\n",
       "      <td>http://www.jurassicworld.com/</td>\n",
       "      <td>Colin Trevorrow</td>\n",
       "      <td>The park is open.</td>\n",
       "      <td>...</td>\n",
       "      <td>Twenty-two years after the events of Jurassic ...</td>\n",
       "      <td>124</td>\n",
       "      <td>Action|Adventure|Science Fiction|Thriller</td>\n",
       "      <td>Universal Studios|Amblin Entertainment|Legenda...</td>\n",
       "      <td>6/9/15</td>\n",
       "      <td>5562</td>\n",
       "      <td>6.5</td>\n",
       "      <td>2015</td>\n",
       "      <td>1.379999e+08</td>\n",
       "      <td>1.392446e+09</td>\n",
       "    </tr>\n",
       "    <tr>\n",
       "      <th>1</th>\n",
       "      <td>76341</td>\n",
       "      <td>tt1392190</td>\n",
       "      <td>28.419936</td>\n",
       "      <td>150000000</td>\n",
       "      <td>378436354</td>\n",
       "      <td>Mad Max: Fury Road</td>\n",
       "      <td>Tom Hardy|Charlize Theron|Hugh Keays-Byrne|Nic...</td>\n",
       "      <td>http://www.madmaxmovie.com/</td>\n",
       "      <td>George Miller</td>\n",
       "      <td>What a Lovely Day.</td>\n",
       "      <td>...</td>\n",
       "      <td>An apocalyptic story set in the furthest reach...</td>\n",
       "      <td>120</td>\n",
       "      <td>Action|Adventure|Science Fiction|Thriller</td>\n",
       "      <td>Village Roadshow Pictures|Kennedy Miller Produ...</td>\n",
       "      <td>5/13/15</td>\n",
       "      <td>6185</td>\n",
       "      <td>7.1</td>\n",
       "      <td>2015</td>\n",
       "      <td>1.379999e+08</td>\n",
       "      <td>3.481613e+08</td>\n",
       "    </tr>\n",
       "    <tr>\n",
       "      <th>2</th>\n",
       "      <td>262500</td>\n",
       "      <td>tt2908446</td>\n",
       "      <td>13.112507</td>\n",
       "      <td>110000000</td>\n",
       "      <td>295238201</td>\n",
       "      <td>Insurgent</td>\n",
       "      <td>Shailene Woodley|Theo James|Kate Winslet|Ansel...</td>\n",
       "      <td>http://www.thedivergentseries.movie/#insurgent</td>\n",
       "      <td>Robert Schwentke</td>\n",
       "      <td>One Choice Can Destroy You</td>\n",
       "      <td>...</td>\n",
       "      <td>Beatrice Prior must confront her inner demons ...</td>\n",
       "      <td>119</td>\n",
       "      <td>Adventure|Science Fiction|Thriller</td>\n",
       "      <td>Summit Entertainment|Mandeville Films|Red Wago...</td>\n",
       "      <td>3/18/15</td>\n",
       "      <td>2480</td>\n",
       "      <td>6.3</td>\n",
       "      <td>2015</td>\n",
       "      <td>1.012000e+08</td>\n",
       "      <td>2.716190e+08</td>\n",
       "    </tr>\n",
       "    <tr>\n",
       "      <th>3</th>\n",
       "      <td>140607</td>\n",
       "      <td>tt2488496</td>\n",
       "      <td>11.173104</td>\n",
       "      <td>200000000</td>\n",
       "      <td>2068178225</td>\n",
       "      <td>Star Wars: The Force Awakens</td>\n",
       "      <td>Harrison Ford|Mark Hamill|Carrie Fisher|Adam D...</td>\n",
       "      <td>http://www.starwars.com/films/star-wars-episod...</td>\n",
       "      <td>J.J. Abrams</td>\n",
       "      <td>Every generation has a story.</td>\n",
       "      <td>...</td>\n",
       "      <td>Thirty years after defeating the Galactic Empi...</td>\n",
       "      <td>136</td>\n",
       "      <td>Action|Adventure|Science Fiction|Fantasy</td>\n",
       "      <td>Lucasfilm|Truenorth Productions|Bad Robot</td>\n",
       "      <td>12/15/15</td>\n",
       "      <td>5292</td>\n",
       "      <td>7.5</td>\n",
       "      <td>2015</td>\n",
       "      <td>1.839999e+08</td>\n",
       "      <td>1.902723e+09</td>\n",
       "    </tr>\n",
       "    <tr>\n",
       "      <th>4</th>\n",
       "      <td>168259</td>\n",
       "      <td>tt2820852</td>\n",
       "      <td>9.335014</td>\n",
       "      <td>190000000</td>\n",
       "      <td>1506249360</td>\n",
       "      <td>Furious 7</td>\n",
       "      <td>Vin Diesel|Paul Walker|Jason Statham|Michelle ...</td>\n",
       "      <td>http://www.furious7.com/</td>\n",
       "      <td>James Wan</td>\n",
       "      <td>Vengeance Hits Home</td>\n",
       "      <td>...</td>\n",
       "      <td>Deckard Shaw seeks revenge against Dominic Tor...</td>\n",
       "      <td>137</td>\n",
       "      <td>Action|Crime|Thriller</td>\n",
       "      <td>Universal Pictures|Original Film|Media Rights ...</td>\n",
       "      <td>4/1/15</td>\n",
       "      <td>2947</td>\n",
       "      <td>7.3</td>\n",
       "      <td>2015</td>\n",
       "      <td>1.747999e+08</td>\n",
       "      <td>1.385749e+09</td>\n",
       "    </tr>\n",
       "  </tbody>\n",
       "</table>\n",
       "<p>5 rows × 21 columns</p>\n",
       "</div>"
      ],
      "text/plain": [
       "       id    imdb_id  popularity     budget     revenue  \\\n",
       "0  135397  tt0369610   32.985763  150000000  1513528810   \n",
       "1   76341  tt1392190   28.419936  150000000   378436354   \n",
       "2  262500  tt2908446   13.112507  110000000   295238201   \n",
       "3  140607  tt2488496   11.173104  200000000  2068178225   \n",
       "4  168259  tt2820852    9.335014  190000000  1506249360   \n",
       "\n",
       "                 original_title  \\\n",
       "0                Jurassic World   \n",
       "1            Mad Max: Fury Road   \n",
       "2                     Insurgent   \n",
       "3  Star Wars: The Force Awakens   \n",
       "4                     Furious 7   \n",
       "\n",
       "                                                cast  \\\n",
       "0  Chris Pratt|Bryce Dallas Howard|Irrfan Khan|Vi...   \n",
       "1  Tom Hardy|Charlize Theron|Hugh Keays-Byrne|Nic...   \n",
       "2  Shailene Woodley|Theo James|Kate Winslet|Ansel...   \n",
       "3  Harrison Ford|Mark Hamill|Carrie Fisher|Adam D...   \n",
       "4  Vin Diesel|Paul Walker|Jason Statham|Michelle ...   \n",
       "\n",
       "                                            homepage          director  \\\n",
       "0                      http://www.jurassicworld.com/   Colin Trevorrow   \n",
       "1                        http://www.madmaxmovie.com/     George Miller   \n",
       "2     http://www.thedivergentseries.movie/#insurgent  Robert Schwentke   \n",
       "3  http://www.starwars.com/films/star-wars-episod...       J.J. Abrams   \n",
       "4                           http://www.furious7.com/         James Wan   \n",
       "\n",
       "                         tagline      ...       \\\n",
       "0              The park is open.      ...        \n",
       "1             What a Lovely Day.      ...        \n",
       "2     One Choice Can Destroy You      ...        \n",
       "3  Every generation has a story.      ...        \n",
       "4            Vengeance Hits Home      ...        \n",
       "\n",
       "                                            overview runtime  \\\n",
       "0  Twenty-two years after the events of Jurassic ...     124   \n",
       "1  An apocalyptic story set in the furthest reach...     120   \n",
       "2  Beatrice Prior must confront her inner demons ...     119   \n",
       "3  Thirty years after defeating the Galactic Empi...     136   \n",
       "4  Deckard Shaw seeks revenge against Dominic Tor...     137   \n",
       "\n",
       "                                      genres  \\\n",
       "0  Action|Adventure|Science Fiction|Thriller   \n",
       "1  Action|Adventure|Science Fiction|Thriller   \n",
       "2         Adventure|Science Fiction|Thriller   \n",
       "3   Action|Adventure|Science Fiction|Fantasy   \n",
       "4                      Action|Crime|Thriller   \n",
       "\n",
       "                                production_companies release_date vote_count  \\\n",
       "0  Universal Studios|Amblin Entertainment|Legenda...       6/9/15       5562   \n",
       "1  Village Roadshow Pictures|Kennedy Miller Produ...      5/13/15       6185   \n",
       "2  Summit Entertainment|Mandeville Films|Red Wago...      3/18/15       2480   \n",
       "3          Lucasfilm|Truenorth Productions|Bad Robot     12/15/15       5292   \n",
       "4  Universal Pictures|Original Film|Media Rights ...       4/1/15       2947   \n",
       "\n",
       "   vote_average  release_year    budget_adj   revenue_adj  \n",
       "0           6.5          2015  1.379999e+08  1.392446e+09  \n",
       "1           7.1          2015  1.379999e+08  3.481613e+08  \n",
       "2           6.3          2015  1.012000e+08  2.716190e+08  \n",
       "3           7.5          2015  1.839999e+08  1.902723e+09  \n",
       "4           7.3          2015  1.747999e+08  1.385749e+09  \n",
       "\n",
       "[5 rows x 21 columns]"
      ]
     },
     "execution_count": 29,
     "metadata": {},
     "output_type": "execute_result"
    }
   ],
   "source": [
    "# Load your data and print out a few lines. Perform operations to inspect data\n",
    "#   types and look for instances of missing or possibly errant data.\n",
    "df = pd.read_csv('https://d17h27t6h515a5.cloudfront.net/topher/2017/October/59dd1c4c_tmdb-movies/tmdb-movies.csv')\n",
    "df.head()"
   ]
  },
  {
   "cell_type": "code",
   "execution_count": 32,
   "metadata": {},
   "outputs": [
    {
     "name": "stdout",
     "output_type": "stream",
     "text": [
      "This data contains 10866 row and 21 columns.\n"
     ]
    }
   ],
   "source": [
    "shape =df.shape\n",
    "print('This data contains {} row and {} columns.'.format(shape[0],shape[1]))"
   ]
  },
  {
   "cell_type": "code",
   "execution_count": 33,
   "metadata": {},
   "outputs": [
    {
     "name": "stdout",
     "output_type": "stream",
     "text": [
      "0 id\n",
      "1 imdb_id\n",
      "2 popularity\n",
      "3 budget\n",
      "4 revenue\n",
      "5 original_title\n",
      "6 cast\n",
      "7 homepage\n",
      "8 director\n",
      "9 tagline\n",
      "10 keywords\n",
      "11 overview\n",
      "12 runtime\n",
      "13 genres\n",
      "14 production_companies\n",
      "15 release_date\n",
      "16 vote_count\n",
      "17 vote_average\n",
      "18 release_year\n",
      "19 budget_adj\n",
      "20 revenue_adj\n"
     ]
    }
   ],
   "source": [
    "#print the columns names\n",
    "for i,col in enumerate(df.columns):\n",
    "    print(i,col)"
   ]
  },
  {
   "cell_type": "code",
   "execution_count": 34,
   "metadata": {},
   "outputs": [
    {
     "name": "stdout",
     "output_type": "stream",
     "text": [
      "<class 'pandas.core.frame.DataFrame'>\n",
      "RangeIndex: 10866 entries, 0 to 10865\n",
      "Data columns (total 21 columns):\n",
      "id                      10866 non-null int64\n",
      "imdb_id                 10856 non-null object\n",
      "popularity              10866 non-null float64\n",
      "budget                  10866 non-null int64\n",
      "revenue                 10866 non-null int64\n",
      "original_title          10866 non-null object\n",
      "cast                    10790 non-null object\n",
      "homepage                2936 non-null object\n",
      "director                10822 non-null object\n",
      "tagline                 8042 non-null object\n",
      "keywords                9373 non-null object\n",
      "overview                10862 non-null object\n",
      "runtime                 10866 non-null int64\n",
      "genres                  10843 non-null object\n",
      "production_companies    9836 non-null object\n",
      "release_date            10866 non-null object\n",
      "vote_count              10866 non-null int64\n",
      "vote_average            10866 non-null float64\n",
      "release_year            10866 non-null int64\n",
      "budget_adj              10866 non-null float64\n",
      "revenue_adj             10866 non-null float64\n",
      "dtypes: float64(4), int64(6), object(11)\n",
      "memory usage: 1.7+ MB\n"
     ]
    }
   ],
   "source": [
    "#get info about the data\n",
    "df.info()"
   ]
  },
  {
   "cell_type": "markdown",
   "metadata": {},
   "source": [
    "> **Tip**: You should _not_ perform too many operations in each cell. Create cells freely to explore your data. One option that you can take with this project is to do a lot of explorations in an initial notebook. These don't have to be organized, but make sure you use enough comments to understand the purpose of each code cell. Then, after you're done with your analysis, create a duplicate notebook where you will trim the excess and organize your steps so that you have a flowing, cohesive report.\n",
    "\n",
    "> **Tip**: Make sure that you keep your reader informed on the steps that you are taking in your investigation. Follow every code cell, or every set of related code cells, with a markdown cell to describe to the reader what was found in the preceding cell(s). Try to make it so that the reader can then understand what they will be seeing in the following cell(s).\n",
    "\n",
    "### Data Cleaning (Replace this with more specific notes!)"
   ]
  },
  {
   "cell_type": "code",
   "execution_count": 35,
   "metadata": {},
   "outputs": [
    {
     "name": "stdout",
     "output_type": "stream",
     "text": [
      "There is 1 dubplicated rows in this data\n"
     ]
    }
   ],
   "source": [
    "#check for duplicated\n",
    "dup=df.duplicated().sum()\n",
    "print('There is {} dubplicated rows in this data'.format(dup))"
   ]
  },
  {
   "cell_type": "code",
   "execution_count": 36,
   "metadata": {},
   "outputs": [],
   "source": [
    "#delete dublicated\n",
    "df.drop_duplicates(inplace=True)"
   ]
  },
  {
   "cell_type": "code",
   "execution_count": 37,
   "metadata": {},
   "outputs": [],
   "source": [
    "#delete the useless columns\n",
    "del_col = [ 'id', 'imdb_id','budget_adj', 'revenue_adj','tagline', 'homepage', 'keywords', 'overview', 'production_companies', 'vote_count', 'vote_average']\n",
    "df.drop(del_col,axis = 1,inplace=True)"
   ]
  },
  {
   "cell_type": "code",
   "execution_count": 38,
   "metadata": {},
   "outputs": [
    {
     "data": {
      "text/html": [
       "<div>\n",
       "<style scoped>\n",
       "    .dataframe tbody tr th:only-of-type {\n",
       "        vertical-align: middle;\n",
       "    }\n",
       "\n",
       "    .dataframe tbody tr th {\n",
       "        vertical-align: top;\n",
       "    }\n",
       "\n",
       "    .dataframe thead th {\n",
       "        text-align: right;\n",
       "    }\n",
       "</style>\n",
       "<table border=\"1\" class=\"dataframe\">\n",
       "  <thead>\n",
       "    <tr style=\"text-align: right;\">\n",
       "      <th></th>\n",
       "      <th>popularity</th>\n",
       "      <th>budget</th>\n",
       "      <th>revenue</th>\n",
       "      <th>original_title</th>\n",
       "      <th>cast</th>\n",
       "      <th>director</th>\n",
       "      <th>runtime</th>\n",
       "      <th>genres</th>\n",
       "      <th>release_date</th>\n",
       "      <th>release_year</th>\n",
       "    </tr>\n",
       "  </thead>\n",
       "  <tbody>\n",
       "    <tr>\n",
       "      <th>0</th>\n",
       "      <td>32.985763</td>\n",
       "      <td>150000000</td>\n",
       "      <td>1513528810</td>\n",
       "      <td>Jurassic World</td>\n",
       "      <td>Chris Pratt|Bryce Dallas Howard|Irrfan Khan|Vi...</td>\n",
       "      <td>Colin Trevorrow</td>\n",
       "      <td>124</td>\n",
       "      <td>Action|Adventure|Science Fiction|Thriller</td>\n",
       "      <td>6/9/15</td>\n",
       "      <td>2015</td>\n",
       "    </tr>\n",
       "    <tr>\n",
       "      <th>1</th>\n",
       "      <td>28.419936</td>\n",
       "      <td>150000000</td>\n",
       "      <td>378436354</td>\n",
       "      <td>Mad Max: Fury Road</td>\n",
       "      <td>Tom Hardy|Charlize Theron|Hugh Keays-Byrne|Nic...</td>\n",
       "      <td>George Miller</td>\n",
       "      <td>120</td>\n",
       "      <td>Action|Adventure|Science Fiction|Thriller</td>\n",
       "      <td>5/13/15</td>\n",
       "      <td>2015</td>\n",
       "    </tr>\n",
       "    <tr>\n",
       "      <th>2</th>\n",
       "      <td>13.112507</td>\n",
       "      <td>110000000</td>\n",
       "      <td>295238201</td>\n",
       "      <td>Insurgent</td>\n",
       "      <td>Shailene Woodley|Theo James|Kate Winslet|Ansel...</td>\n",
       "      <td>Robert Schwentke</td>\n",
       "      <td>119</td>\n",
       "      <td>Adventure|Science Fiction|Thriller</td>\n",
       "      <td>3/18/15</td>\n",
       "      <td>2015</td>\n",
       "    </tr>\n",
       "    <tr>\n",
       "      <th>3</th>\n",
       "      <td>11.173104</td>\n",
       "      <td>200000000</td>\n",
       "      <td>2068178225</td>\n",
       "      <td>Star Wars: The Force Awakens</td>\n",
       "      <td>Harrison Ford|Mark Hamill|Carrie Fisher|Adam D...</td>\n",
       "      <td>J.J. Abrams</td>\n",
       "      <td>136</td>\n",
       "      <td>Action|Adventure|Science Fiction|Fantasy</td>\n",
       "      <td>12/15/15</td>\n",
       "      <td>2015</td>\n",
       "    </tr>\n",
       "    <tr>\n",
       "      <th>4</th>\n",
       "      <td>9.335014</td>\n",
       "      <td>190000000</td>\n",
       "      <td>1506249360</td>\n",
       "      <td>Furious 7</td>\n",
       "      <td>Vin Diesel|Paul Walker|Jason Statham|Michelle ...</td>\n",
       "      <td>James Wan</td>\n",
       "      <td>137</td>\n",
       "      <td>Action|Crime|Thriller</td>\n",
       "      <td>4/1/15</td>\n",
       "      <td>2015</td>\n",
       "    </tr>\n",
       "  </tbody>\n",
       "</table>\n",
       "</div>"
      ],
      "text/plain": [
       "   popularity     budget     revenue                original_title  \\\n",
       "0   32.985763  150000000  1513528810                Jurassic World   \n",
       "1   28.419936  150000000   378436354            Mad Max: Fury Road   \n",
       "2   13.112507  110000000   295238201                     Insurgent   \n",
       "3   11.173104  200000000  2068178225  Star Wars: The Force Awakens   \n",
       "4    9.335014  190000000  1506249360                     Furious 7   \n",
       "\n",
       "                                                cast          director  \\\n",
       "0  Chris Pratt|Bryce Dallas Howard|Irrfan Khan|Vi...   Colin Trevorrow   \n",
       "1  Tom Hardy|Charlize Theron|Hugh Keays-Byrne|Nic...     George Miller   \n",
       "2  Shailene Woodley|Theo James|Kate Winslet|Ansel...  Robert Schwentke   \n",
       "3  Harrison Ford|Mark Hamill|Carrie Fisher|Adam D...       J.J. Abrams   \n",
       "4  Vin Diesel|Paul Walker|Jason Statham|Michelle ...         James Wan   \n",
       "\n",
       "   runtime                                     genres release_date  \\\n",
       "0      124  Action|Adventure|Science Fiction|Thriller       6/9/15   \n",
       "1      120  Action|Adventure|Science Fiction|Thriller      5/13/15   \n",
       "2      119         Adventure|Science Fiction|Thriller      3/18/15   \n",
       "3      136   Action|Adventure|Science Fiction|Fantasy     12/15/15   \n",
       "4      137                      Action|Crime|Thriller       4/1/15   \n",
       "\n",
       "   release_year  \n",
       "0          2015  \n",
       "1          2015  \n",
       "2          2015  \n",
       "3          2015  \n",
       "4          2015  "
      ]
     },
     "execution_count": 38,
     "metadata": {},
     "output_type": "execute_result"
    }
   ],
   "source": [
    "df.head()"
   ]
  },
  {
   "cell_type": "code",
   "execution_count": 39,
   "metadata": {},
   "outputs": [],
   "source": [
    "#replace the 0 in 'revenue','budget','runtime' columns by NAN cause it impossible to be 0\n",
    "df[['revenue','budget','runtime']]=df[['revenue','budget','runtime']].replace(0,np.NAN)"
   ]
  },
  {
   "cell_type": "code",
   "execution_count": 40,
   "metadata": {},
   "outputs": [
    {
     "data": {
      "text/plain": [
       "popularity           0\n",
       "budget            5696\n",
       "revenue           6016\n",
       "original_title       0\n",
       "cast                76\n",
       "director            44\n",
       "runtime             31\n",
       "genres              23\n",
       "release_date         0\n",
       "release_year         0\n",
       "dtype: int64"
      ]
     },
     "execution_count": 40,
     "metadata": {},
     "output_type": "execute_result"
    }
   ],
   "source": [
    "#check for null values\n",
    "df.isnull().sum()"
   ]
  },
  {
   "cell_type": "code",
   "execution_count": 41,
   "metadata": {
    "scrolled": false
   },
   "outputs": [],
   "source": [
    "#drop all NAN values\n",
    "df.dropna(inplace = True)"
   ]
  },
  {
   "cell_type": "code",
   "execution_count": 42,
   "metadata": {},
   "outputs": [
    {
     "name": "stdout",
     "output_type": "stream",
     "text": [
      "The new data contains 3849 row and 10 columns.\n"
     ]
    }
   ],
   "source": [
    "shape =df.shape\n",
    "print('The new data contains {} row and {} columns.'.format(shape[0],shape[1]))"
   ]
  },
  {
   "cell_type": "code",
   "execution_count": 43,
   "metadata": {},
   "outputs": [
    {
     "name": "stdout",
     "output_type": "stream",
     "text": [
      "The new data contains 0 null and 0 duplicated.\n"
     ]
    }
   ],
   "source": [
    "dup=df.duplicated().sum()\n",
    "print('The new data contains 0 null and {} duplicated.'.format(dup))"
   ]
  },
  {
   "cell_type": "code",
   "execution_count": 44,
   "metadata": {},
   "outputs": [
    {
     "name": "stdout",
     "output_type": "stream",
     "text": [
      "0 popularity\n",
      "1 budget\n",
      "2 revenue\n",
      "3 original_title\n",
      "4 cast\n",
      "5 director\n",
      "6 runtime\n",
      "7 genres\n",
      "8 release_date\n",
      "9 release_year\n"
     ]
    }
   ],
   "source": [
    "#print the new columns names\n",
    "for i,col in enumerate(df.columns):\n",
    "    print(i,col)"
   ]
  },
  {
   "cell_type": "code",
   "execution_count": 45,
   "metadata": {},
   "outputs": [
    {
     "data": {
      "text/plain": [
       "popularity        float64\n",
       "budget            float64\n",
       "revenue           float64\n",
       "original_title     object\n",
       "cast               object\n",
       "director           object\n",
       "runtime           float64\n",
       "genres             object\n",
       "release_date       object\n",
       "release_year        int64\n",
       "dtype: object"
      ]
     },
     "execution_count": 45,
     "metadata": {},
     "output_type": "execute_result"
    }
   ],
   "source": [
    "#display columns types\n",
    "df.dtypes"
   ]
  },
  {
   "cell_type": "code",
   "execution_count": 46,
   "metadata": {},
   "outputs": [],
   "source": [
    "# convert 'release_date' columns to datetime\n",
    "df['release_date'] = pd.to_datetime(df['release_date'])"
   ]
  },
  {
   "cell_type": "code",
   "execution_count": 47,
   "metadata": {},
   "outputs": [
    {
     "data": {
      "text/plain": [
       "popularity               float64\n",
       "budget                   float64\n",
       "revenue                  float64\n",
       "original_title            object\n",
       "cast                      object\n",
       "director                  object\n",
       "runtime                  float64\n",
       "genres                    object\n",
       "release_date      datetime64[ns]\n",
       "release_year               int64\n",
       "dtype: object"
      ]
     },
     "execution_count": 47,
     "metadata": {},
     "output_type": "execute_result"
    }
   ],
   "source": [
    "#display the new columns types\n",
    "df.dtypes"
   ]
  },
  {
   "cell_type": "code",
   "execution_count": 48,
   "metadata": {},
   "outputs": [],
   "source": [
    "#make a new columns for profit which is revenue-budget\n",
    "df['profit'] = df['revenue'] - df['budget']"
   ]
  },
  {
   "cell_type": "code",
   "execution_count": 49,
   "metadata": {},
   "outputs": [
    {
     "data": {
      "text/html": [
       "<div>\n",
       "<style scoped>\n",
       "    .dataframe tbody tr th:only-of-type {\n",
       "        vertical-align: middle;\n",
       "    }\n",
       "\n",
       "    .dataframe tbody tr th {\n",
       "        vertical-align: top;\n",
       "    }\n",
       "\n",
       "    .dataframe thead th {\n",
       "        text-align: right;\n",
       "    }\n",
       "</style>\n",
       "<table border=\"1\" class=\"dataframe\">\n",
       "  <thead>\n",
       "    <tr style=\"text-align: right;\">\n",
       "      <th></th>\n",
       "      <th>popularity</th>\n",
       "      <th>budget</th>\n",
       "      <th>revenue</th>\n",
       "      <th>original_title</th>\n",
       "      <th>cast</th>\n",
       "      <th>director</th>\n",
       "      <th>runtime</th>\n",
       "      <th>genres</th>\n",
       "      <th>release_date</th>\n",
       "      <th>release_year</th>\n",
       "      <th>profit</th>\n",
       "    </tr>\n",
       "  </thead>\n",
       "  <tbody>\n",
       "    <tr>\n",
       "      <th>0</th>\n",
       "      <td>32.985763</td>\n",
       "      <td>150000000.0</td>\n",
       "      <td>1.513529e+09</td>\n",
       "      <td>Jurassic World</td>\n",
       "      <td>Chris Pratt|Bryce Dallas Howard|Irrfan Khan|Vi...</td>\n",
       "      <td>Colin Trevorrow</td>\n",
       "      <td>124.0</td>\n",
       "      <td>Action|Adventure|Science Fiction|Thriller</td>\n",
       "      <td>2015-06-09</td>\n",
       "      <td>2015</td>\n",
       "      <td>1.363529e+09</td>\n",
       "    </tr>\n",
       "    <tr>\n",
       "      <th>1</th>\n",
       "      <td>28.419936</td>\n",
       "      <td>150000000.0</td>\n",
       "      <td>3.784364e+08</td>\n",
       "      <td>Mad Max: Fury Road</td>\n",
       "      <td>Tom Hardy|Charlize Theron|Hugh Keays-Byrne|Nic...</td>\n",
       "      <td>George Miller</td>\n",
       "      <td>120.0</td>\n",
       "      <td>Action|Adventure|Science Fiction|Thriller</td>\n",
       "      <td>2015-05-13</td>\n",
       "      <td>2015</td>\n",
       "      <td>2.284364e+08</td>\n",
       "    </tr>\n",
       "    <tr>\n",
       "      <th>2</th>\n",
       "      <td>13.112507</td>\n",
       "      <td>110000000.0</td>\n",
       "      <td>2.952382e+08</td>\n",
       "      <td>Insurgent</td>\n",
       "      <td>Shailene Woodley|Theo James|Kate Winslet|Ansel...</td>\n",
       "      <td>Robert Schwentke</td>\n",
       "      <td>119.0</td>\n",
       "      <td>Adventure|Science Fiction|Thriller</td>\n",
       "      <td>2015-03-18</td>\n",
       "      <td>2015</td>\n",
       "      <td>1.852382e+08</td>\n",
       "    </tr>\n",
       "    <tr>\n",
       "      <th>3</th>\n",
       "      <td>11.173104</td>\n",
       "      <td>200000000.0</td>\n",
       "      <td>2.068178e+09</td>\n",
       "      <td>Star Wars: The Force Awakens</td>\n",
       "      <td>Harrison Ford|Mark Hamill|Carrie Fisher|Adam D...</td>\n",
       "      <td>J.J. Abrams</td>\n",
       "      <td>136.0</td>\n",
       "      <td>Action|Adventure|Science Fiction|Fantasy</td>\n",
       "      <td>2015-12-15</td>\n",
       "      <td>2015</td>\n",
       "      <td>1.868178e+09</td>\n",
       "    </tr>\n",
       "    <tr>\n",
       "      <th>4</th>\n",
       "      <td>9.335014</td>\n",
       "      <td>190000000.0</td>\n",
       "      <td>1.506249e+09</td>\n",
       "      <td>Furious 7</td>\n",
       "      <td>Vin Diesel|Paul Walker|Jason Statham|Michelle ...</td>\n",
       "      <td>James Wan</td>\n",
       "      <td>137.0</td>\n",
       "      <td>Action|Crime|Thriller</td>\n",
       "      <td>2015-04-01</td>\n",
       "      <td>2015</td>\n",
       "      <td>1.316249e+09</td>\n",
       "    </tr>\n",
       "    <tr>\n",
       "      <th>5</th>\n",
       "      <td>9.110700</td>\n",
       "      <td>135000000.0</td>\n",
       "      <td>5.329505e+08</td>\n",
       "      <td>The Revenant</td>\n",
       "      <td>Leonardo DiCaprio|Tom Hardy|Will Poulter|Domhn...</td>\n",
       "      <td>Alejandro GonzÃ¡lez IÃ±Ã¡rritu</td>\n",
       "      <td>156.0</td>\n",
       "      <td>Western|Drama|Adventure|Thriller</td>\n",
       "      <td>2015-12-25</td>\n",
       "      <td>2015</td>\n",
       "      <td>3.979505e+08</td>\n",
       "    </tr>\n",
       "    <tr>\n",
       "      <th>6</th>\n",
       "      <td>8.654359</td>\n",
       "      <td>155000000.0</td>\n",
       "      <td>4.406035e+08</td>\n",
       "      <td>Terminator Genisys</td>\n",
       "      <td>Arnold Schwarzenegger|Jason Clarke|Emilia Clar...</td>\n",
       "      <td>Alan Taylor</td>\n",
       "      <td>125.0</td>\n",
       "      <td>Science Fiction|Action|Thriller|Adventure</td>\n",
       "      <td>2015-06-23</td>\n",
       "      <td>2015</td>\n",
       "      <td>2.856035e+08</td>\n",
       "    </tr>\n",
       "    <tr>\n",
       "      <th>7</th>\n",
       "      <td>7.667400</td>\n",
       "      <td>108000000.0</td>\n",
       "      <td>5.953803e+08</td>\n",
       "      <td>The Martian</td>\n",
       "      <td>Matt Damon|Jessica Chastain|Kristen Wiig|Jeff ...</td>\n",
       "      <td>Ridley Scott</td>\n",
       "      <td>141.0</td>\n",
       "      <td>Drama|Adventure|Science Fiction</td>\n",
       "      <td>2015-09-30</td>\n",
       "      <td>2015</td>\n",
       "      <td>4.873803e+08</td>\n",
       "    </tr>\n",
       "    <tr>\n",
       "      <th>8</th>\n",
       "      <td>7.404165</td>\n",
       "      <td>74000000.0</td>\n",
       "      <td>1.156731e+09</td>\n",
       "      <td>Minions</td>\n",
       "      <td>Sandra Bullock|Jon Hamm|Michael Keaton|Allison...</td>\n",
       "      <td>Kyle Balda|Pierre Coffin</td>\n",
       "      <td>91.0</td>\n",
       "      <td>Family|Animation|Adventure|Comedy</td>\n",
       "      <td>2015-06-17</td>\n",
       "      <td>2015</td>\n",
       "      <td>1.082731e+09</td>\n",
       "    </tr>\n",
       "    <tr>\n",
       "      <th>9</th>\n",
       "      <td>6.326804</td>\n",
       "      <td>175000000.0</td>\n",
       "      <td>8.537086e+08</td>\n",
       "      <td>Inside Out</td>\n",
       "      <td>Amy Poehler|Phyllis Smith|Richard Kind|Bill Ha...</td>\n",
       "      <td>Pete Docter</td>\n",
       "      <td>94.0</td>\n",
       "      <td>Comedy|Animation|Family</td>\n",
       "      <td>2015-06-09</td>\n",
       "      <td>2015</td>\n",
       "      <td>6.787086e+08</td>\n",
       "    </tr>\n",
       "  </tbody>\n",
       "</table>\n",
       "</div>"
      ],
      "text/plain": [
       "   popularity       budget       revenue                original_title  \\\n",
       "0   32.985763  150000000.0  1.513529e+09                Jurassic World   \n",
       "1   28.419936  150000000.0  3.784364e+08            Mad Max: Fury Road   \n",
       "2   13.112507  110000000.0  2.952382e+08                     Insurgent   \n",
       "3   11.173104  200000000.0  2.068178e+09  Star Wars: The Force Awakens   \n",
       "4    9.335014  190000000.0  1.506249e+09                     Furious 7   \n",
       "5    9.110700  135000000.0  5.329505e+08                  The Revenant   \n",
       "6    8.654359  155000000.0  4.406035e+08            Terminator Genisys   \n",
       "7    7.667400  108000000.0  5.953803e+08                   The Martian   \n",
       "8    7.404165   74000000.0  1.156731e+09                       Minions   \n",
       "9    6.326804  175000000.0  8.537086e+08                    Inside Out   \n",
       "\n",
       "                                                cast  \\\n",
       "0  Chris Pratt|Bryce Dallas Howard|Irrfan Khan|Vi...   \n",
       "1  Tom Hardy|Charlize Theron|Hugh Keays-Byrne|Nic...   \n",
       "2  Shailene Woodley|Theo James|Kate Winslet|Ansel...   \n",
       "3  Harrison Ford|Mark Hamill|Carrie Fisher|Adam D...   \n",
       "4  Vin Diesel|Paul Walker|Jason Statham|Michelle ...   \n",
       "5  Leonardo DiCaprio|Tom Hardy|Will Poulter|Domhn...   \n",
       "6  Arnold Schwarzenegger|Jason Clarke|Emilia Clar...   \n",
       "7  Matt Damon|Jessica Chastain|Kristen Wiig|Jeff ...   \n",
       "8  Sandra Bullock|Jon Hamm|Michael Keaton|Allison...   \n",
       "9  Amy Poehler|Phyllis Smith|Richard Kind|Bill Ha...   \n",
       "\n",
       "                         director  runtime  \\\n",
       "0                 Colin Trevorrow    124.0   \n",
       "1                   George Miller    120.0   \n",
       "2                Robert Schwentke    119.0   \n",
       "3                     J.J. Abrams    136.0   \n",
       "4                       James Wan    137.0   \n",
       "5  Alejandro GonzÃ¡lez IÃ±Ã¡rritu    156.0   \n",
       "6                     Alan Taylor    125.0   \n",
       "7                    Ridley Scott    141.0   \n",
       "8        Kyle Balda|Pierre Coffin     91.0   \n",
       "9                     Pete Docter     94.0   \n",
       "\n",
       "                                      genres release_date  release_year  \\\n",
       "0  Action|Adventure|Science Fiction|Thriller   2015-06-09          2015   \n",
       "1  Action|Adventure|Science Fiction|Thriller   2015-05-13          2015   \n",
       "2         Adventure|Science Fiction|Thriller   2015-03-18          2015   \n",
       "3   Action|Adventure|Science Fiction|Fantasy   2015-12-15          2015   \n",
       "4                      Action|Crime|Thriller   2015-04-01          2015   \n",
       "5           Western|Drama|Adventure|Thriller   2015-12-25          2015   \n",
       "6  Science Fiction|Action|Thriller|Adventure   2015-06-23          2015   \n",
       "7            Drama|Adventure|Science Fiction   2015-09-30          2015   \n",
       "8          Family|Animation|Adventure|Comedy   2015-06-17          2015   \n",
       "9                    Comedy|Animation|Family   2015-06-09          2015   \n",
       "\n",
       "         profit  \n",
       "0  1.363529e+09  \n",
       "1  2.284364e+08  \n",
       "2  1.852382e+08  \n",
       "3  1.868178e+09  \n",
       "4  1.316249e+09  \n",
       "5  3.979505e+08  \n",
       "6  2.856035e+08  \n",
       "7  4.873803e+08  \n",
       "8  1.082731e+09  \n",
       "9  6.787086e+08  "
      ]
     },
     "execution_count": 49,
     "metadata": {},
     "output_type": "execute_result"
    }
   ],
   "source": [
    "#first 10 row of the new data\n",
    "df.head(10)"
   ]
  },
  {
   "cell_type": "markdown",
   "metadata": {},
   "source": [
    "<a id='eda'></a>\n",
    "## Exploratory Data Analysis\n",
    "\n",
    "> **Tip**: Now that you've trimmed and cleaned your data, you're ready to move on to exploration. Compute statistics and create visualizations with the goal of addressing the research questions that you posed in the Introduction section. It is recommended that you be systematic with your approach. Look at one variable at a time, and then follow it up by looking at relationships between variables.\n",
    "\n",
    "### Research Question 1 (Which genres are most popular ? )"
   ]
  },
  {
   "cell_type": "code",
   "execution_count": 50,
   "metadata": {},
   "outputs": [
    {
     "data": {
      "text/plain": [
       "Drama              1753\n",
       "Comedy             1357\n",
       "Thriller           1203\n",
       "Action             1085\n",
       "Adventure           749\n",
       "Romance             666\n",
       "Crime               651\n",
       "Science Fiction     519\n",
       "Horror              463\n",
       "Family              425\n",
       "Fantasy             396\n",
       "Mystery             344\n",
       "Animation           201\n",
       "Music               134\n",
       "History             129\n",
       "War                 119\n",
       "Western              52\n",
       "Documentary          31\n",
       "Foreign              12\n",
       "TV Movie              1\n",
       "dtype: int64"
      ]
     },
     "execution_count": 50,
     "metadata": {},
     "output_type": "execute_result"
    }
   ],
   "source": [
    "# Use this, and more code cells, to explore your data. Don't forget to add\n",
    "#   Markdown cells to document your observations and findings.\n",
    "def extract_data(column_name):\n",
    "    #will take a column, and separate the string by '|'\n",
    "    all_data = df[column_name].str.cat(sep = '|')\n",
    "    \n",
    "    #giving pandas series and storing the values separately\n",
    "    all_data = pd.Series(all_data.split('|'))\n",
    "    \n",
    "    #this will us value in descending order\n",
    "    count = all_data.value_counts(ascending = False)\n",
    "    \n",
    "    return count\n",
    "gener_count = extract_data('genres')\n",
    "gener_count"
   ]
  },
  {
   "cell_type": "code",
   "execution_count": 51,
   "metadata": {},
   "outputs": [
    {
     "data": {
      "image/png": "[encoded data removed]",
      "text/plain": [
       "<matplotlib.figure.Figure at 0x7f0e806eec18>"
      ]
     },
     "metadata": {
      "needs_background": "light"
     },
     "output_type": "display_data"
    }
   ],
   "source": [
    "gener_count.sort_values(ascending = True, inplace = True)\n",
    "\n",
    "#initializing plot\n",
    "ax = gener_count.plot.barh(color = '#007482', fontsize = 15)\n",
    "\n",
    "#giving a title\n",
    "ax.set(title = 'The Most filmed genres')\n",
    "\n",
    "#x-label\n",
    "ax.set_xlabel('Number of Movies', color = 'g', fontsize = '18')\n",
    "\n",
    "#giving the figure size(width, height)\n",
    "ax.figure.set_size_inches(12, 10)\n",
    "\n",
    "#shwoing the plot\n",
    "plt.show()"
   ]
  },
  {
   "cell_type": "markdown",
   "metadata": {},
   "source": [
    "### THE Graph show that Drama ,Comedy,Thriller,Action ,Adventure and Romance are the most popular geners\n",
    "### And   War ,Western  ,Documentary,Foreign and TV Movie are the less popular geners\n",
    " \n",
    "          \n",
    "           \n",
    "             "
   ]
  },
  {
   "cell_type": "markdown",
   "metadata": {},
   "source": [
    "### Research Question 2  (In which year we had the most movies making profits?)"
   ]
  },
  {
   "cell_type": "code",
   "execution_count": 52,
   "metadata": {},
   "outputs": [
    {
     "data": {
      "text/plain": [
       "release_year\n",
       "1960    1.081981e+08\n",
       "1961    2.990832e+08\n",
       "1962    1.668798e+08\n",
       "1963    1.154119e+08\n",
       "1964    2.946784e+08\n",
       "1965    3.992819e+08\n",
       "1966    5.246869e+07\n",
       "1967    6.363346e+08\n",
       "1968    1.682718e+08\n",
       "1969    2.068630e+08\n",
       "1970    4.540700e+08\n",
       "1971    3.362847e+08\n",
       "1972    4.572359e+08\n",
       "1973    1.057686e+09\n",
       "1974    6.505820e+08\n",
       "1975    8.082073e+08\n",
       "1976    6.294265e+08\n",
       "1977    1.743308e+09\n",
       "1978    1.005100e+09\n",
       "1979    9.503302e+08\n",
       "1980    1.002066e+09\n",
       "1981    1.320251e+09\n",
       "1982    1.811756e+09\n",
       "1983    1.505074e+09\n",
       "1984    1.833438e+09\n",
       "1985    1.666899e+09\n",
       "1986    1.665355e+09\n",
       "1987    2.148547e+09\n",
       "1988    2.314987e+09\n",
       "1989    3.603941e+09\n",
       "1990    3.454905e+09\n",
       "1991    3.048121e+09\n",
       "1992    3.873046e+09\n",
       "1993    4.575828e+09\n",
       "1994    4.704384e+09\n",
       "1995    5.608098e+09\n",
       "1996    4.736627e+09\n",
       "1997    6.380241e+09\n",
       "1998    5.274145e+09\n",
       "1999    6.433209e+09\n",
       "2000    6.110775e+09\n",
       "2001    8.022045e+09\n",
       "2002    9.007576e+09\n",
       "2003    9.202155e+09\n",
       "2004    9.822507e+09\n",
       "2005    9.259453e+09\n",
       "2006    8.726300e+09\n",
       "2007    1.168610e+10\n",
       "2008    1.183655e+10\n",
       "2009    1.406931e+10\n",
       "2010    1.334122e+10\n",
       "2011    1.496669e+10\n",
       "2012    1.656595e+10\n",
       "2013    1.578274e+10\n",
       "2014    1.667620e+10\n",
       "2015    1.903215e+10\n",
       "Name: profit, dtype: float64"
      ]
     },
     "execution_count": 52,
     "metadata": {},
     "output_type": "execute_result"
    }
   ],
   "source": [
    "# Continue to explore the data to address your additional research\n",
    "#   questions. Add more headers as needed if you have more questions to\n",
    "#   investigate.\n",
    "def max_year_profit():\n",
    "    return df.groupby('release_year')['profit'].sum()\n",
    "profits_each_year = max_year_profit()\n",
    "profits_each_year"
   ]
  },
  {
   "cell_type": "code",
   "execution_count": 53,
   "metadata": {},
   "outputs": [
    {
     "data": {
      "image/png": "[encoded data removed]",
      "text/plain": [
       "<matplotlib.figure.Figure at 0x7f0e806e0a20>"
      ]
     },
     "metadata": {
      "needs_background": "light"
     },
     "output_type": "display_data"
    }
   ],
   "source": [
    "#Line plot used for this\n",
    "#Since we want to know the profits of movies for every year we need to group all the movies for those years\n",
    "\n",
    "#the groupby function below collects all the movies for that year and then the profits of all those movies for that years is been added\n",
    "#and storing all this in variable\n",
    "profits_each_year = df.groupby('release_year')['profit'].sum()\n",
    "\n",
    "#giving the figure size(width, height)\n",
    "plt.figure(figsize=(18,16), dpi = 130)\n",
    "\n",
    "#labeling x-axis\n",
    "plt.xlabel('Release Year of Movies', fontsize = 12)\n",
    "#labeling y-axis\n",
    "plt.ylabel('Total Profits made by Movies', fontsize = 12)\n",
    "#title of a the plot\n",
    "plt.title('Calculating Total Profits made by all movies in year which it released.')\n",
    "\n",
    "#plotting what needs to be plotted\n",
    "plt.plot(profits_each_year)\n",
    "\n",
    "#showing the plot\n",
    "plt.show()"
   ]
  },
  {
   "cell_type": "markdown",
   "metadata": {},
   "source": [
    "### The Graph show that the profit raising over years\n",
    "### 1960 had the lowest profit \n",
    "### 2015 had the highest profit"
   ]
  },
  {
   "cell_type": "markdown",
   "metadata": {},
   "source": [
    "### Research Question 3  (which movies had the highest and lowest profits ,budget and revenue?)"
   ]
  },
  {
   "cell_type": "code",
   "execution_count": 54,
   "metadata": {},
   "outputs": [
    {
     "data": {
      "text/html": [
       "<div>\n",
       "<style scoped>\n",
       "    .dataframe tbody tr th:only-of-type {\n",
       "        vertical-align: middle;\n",
       "    }\n",
       "\n",
       "    .dataframe tbody tr th {\n",
       "        vertical-align: top;\n",
       "    }\n",
       "\n",
       "    .dataframe thead th {\n",
       "        text-align: right;\n",
       "    }\n",
       "</style>\n",
       "<table border=\"1\" class=\"dataframe\">\n",
       "  <thead>\n",
       "    <tr style=\"text-align: right;\">\n",
       "      <th></th>\n",
       "      <th>2618</th>\n",
       "      <th>2244</th>\n",
       "    </tr>\n",
       "  </thead>\n",
       "  <tbody>\n",
       "    <tr>\n",
       "      <th>popularity</th>\n",
       "      <td>0.090186</td>\n",
       "      <td>0.25054</td>\n",
       "    </tr>\n",
       "    <tr>\n",
       "      <th>budget</th>\n",
       "      <td>1</td>\n",
       "      <td>4.25e+08</td>\n",
       "    </tr>\n",
       "    <tr>\n",
       "      <th>revenue</th>\n",
       "      <td>100</td>\n",
       "      <td>1.10876e+07</td>\n",
       "    </tr>\n",
       "    <tr>\n",
       "      <th>original_title</th>\n",
       "      <td>Lost &amp; Found</td>\n",
       "      <td>The Warrior's Way</td>\n",
       "    </tr>\n",
       "    <tr>\n",
       "      <th>cast</th>\n",
       "      <td>David Spade|Sophie Marceau|Ever Carradine|Step...</td>\n",
       "      <td>Kate Bosworth|Jang Dong-gun|Geoffrey Rush|Dann...</td>\n",
       "    </tr>\n",
       "    <tr>\n",
       "      <th>director</th>\n",
       "      <td>Jeff Pollack</td>\n",
       "      <td>Sngmoo Lee</td>\n",
       "    </tr>\n",
       "    <tr>\n",
       "      <th>runtime</th>\n",
       "      <td>95</td>\n",
       "      <td>100</td>\n",
       "    </tr>\n",
       "    <tr>\n",
       "      <th>genres</th>\n",
       "      <td>Comedy|Romance</td>\n",
       "      <td>Adventure|Fantasy|Action|Western|Thriller</td>\n",
       "    </tr>\n",
       "    <tr>\n",
       "      <th>release_date</th>\n",
       "      <td>1999-04-23 00:00:00</td>\n",
       "      <td>2010-12-02 00:00:00</td>\n",
       "    </tr>\n",
       "    <tr>\n",
       "      <th>release_year</th>\n",
       "      <td>1999</td>\n",
       "      <td>2010</td>\n",
       "    </tr>\n",
       "    <tr>\n",
       "      <th>profit</th>\n",
       "      <td>99</td>\n",
       "      <td>-4.13912e+08</td>\n",
       "    </tr>\n",
       "  </tbody>\n",
       "</table>\n",
       "</div>"
      ],
      "text/plain": [
       "                                                             2618  \\\n",
       "popularity                                               0.090186   \n",
       "budget                                                          1   \n",
       "revenue                                                       100   \n",
       "original_title                                       Lost & Found   \n",
       "cast            David Spade|Sophie Marceau|Ever Carradine|Step...   \n",
       "director                                             Jeff Pollack   \n",
       "runtime                                                        95   \n",
       "genres                                             Comedy|Romance   \n",
       "release_date                                  1999-04-23 00:00:00   \n",
       "release_year                                                 1999   \n",
       "profit                                                         99   \n",
       "\n",
       "                                                             2244  \n",
       "popularity                                                0.25054  \n",
       "budget                                                   4.25e+08  \n",
       "revenue                                               1.10876e+07  \n",
       "original_title                                  The Warrior's Way  \n",
       "cast            Kate Bosworth|Jang Dong-gun|Geoffrey Rush|Dann...  \n",
       "director                                               Sngmoo Lee  \n",
       "runtime                                                       100  \n",
       "genres                  Adventure|Fantasy|Action|Western|Thriller  \n",
       "release_date                                  2010-12-02 00:00:00  \n",
       "release_year                                                 2010  \n",
       "profit                                               -4.13912e+08  "
      ]
     },
     "metadata": {},
     "output_type": "display_data"
    },
    {
     "data": {
      "text/html": [
       "<div>\n",
       "<style scoped>\n",
       "    .dataframe tbody tr th:only-of-type {\n",
       "        vertical-align: middle;\n",
       "    }\n",
       "\n",
       "    .dataframe tbody tr th {\n",
       "        vertical-align: top;\n",
       "    }\n",
       "\n",
       "    .dataframe thead th {\n",
       "        text-align: right;\n",
       "    }\n",
       "</style>\n",
       "<table border=\"1\" class=\"dataframe\">\n",
       "  <thead>\n",
       "    <tr style=\"text-align: right;\">\n",
       "      <th></th>\n",
       "      <th>5067</th>\n",
       "      <th>1386</th>\n",
       "    </tr>\n",
       "  </thead>\n",
       "  <tbody>\n",
       "    <tr>\n",
       "      <th>popularity</th>\n",
       "      <td>0.462609</td>\n",
       "      <td>9.43277</td>\n",
       "    </tr>\n",
       "    <tr>\n",
       "      <th>budget</th>\n",
       "      <td>6e+06</td>\n",
       "      <td>2.37e+08</td>\n",
       "    </tr>\n",
       "    <tr>\n",
       "      <th>revenue</th>\n",
       "      <td>2</td>\n",
       "      <td>2.78151e+09</td>\n",
       "    </tr>\n",
       "    <tr>\n",
       "      <th>original_title</th>\n",
       "      <td>Shattered Glass</td>\n",
       "      <td>Avatar</td>\n",
       "    </tr>\n",
       "    <tr>\n",
       "      <th>cast</th>\n",
       "      <td>Hayden Christensen|Peter Sarsgaard|ChloÃ« Sevi...</td>\n",
       "      <td>Sam Worthington|Zoe Saldana|Sigourney Weaver|S...</td>\n",
       "    </tr>\n",
       "    <tr>\n",
       "      <th>director</th>\n",
       "      <td>Billy Ray</td>\n",
       "      <td>James Cameron</td>\n",
       "    </tr>\n",
       "    <tr>\n",
       "      <th>runtime</th>\n",
       "      <td>94</td>\n",
       "      <td>162</td>\n",
       "    </tr>\n",
       "    <tr>\n",
       "      <th>genres</th>\n",
       "      <td>Drama|History</td>\n",
       "      <td>Action|Adventure|Fantasy|Science Fiction</td>\n",
       "    </tr>\n",
       "    <tr>\n",
       "      <th>release_date</th>\n",
       "      <td>2003-11-14 00:00:00</td>\n",
       "      <td>2009-12-10 00:00:00</td>\n",
       "    </tr>\n",
       "    <tr>\n",
       "      <th>release_year</th>\n",
       "      <td>2003</td>\n",
       "      <td>2009</td>\n",
       "    </tr>\n",
       "    <tr>\n",
       "      <th>profit</th>\n",
       "      <td>-6e+06</td>\n",
       "      <td>2.54451e+09</td>\n",
       "    </tr>\n",
       "  </tbody>\n",
       "</table>\n",
       "</div>"
      ],
      "text/plain": [
       "                                                             5067  \\\n",
       "popularity                                               0.462609   \n",
       "budget                                                      6e+06   \n",
       "revenue                                                         2   \n",
       "original_title                                    Shattered Glass   \n",
       "cast            Hayden Christensen|Peter Sarsgaard|ChloÃ« Sevi...   \n",
       "director                                                Billy Ray   \n",
       "runtime                                                        94   \n",
       "genres                                              Drama|History   \n",
       "release_date                                  2003-11-14 00:00:00   \n",
       "release_year                                                 2003   \n",
       "profit                                                     -6e+06   \n",
       "\n",
       "                                                             1386  \n",
       "popularity                                                9.43277  \n",
       "budget                                                   2.37e+08  \n",
       "revenue                                               2.78151e+09  \n",
       "original_title                                             Avatar  \n",
       "cast            Sam Worthington|Zoe Saldana|Sigourney Weaver|S...  \n",
       "director                                            James Cameron  \n",
       "runtime                                                       162  \n",
       "genres                   Action|Adventure|Fantasy|Science Fiction  \n",
       "release_date                                  2009-12-10 00:00:00  \n",
       "release_year                                                 2009  \n",
       "profit                                                2.54451e+09  "
      ]
     },
     "metadata": {},
     "output_type": "display_data"
    },
    {
     "data": {
      "text/html": [
       "<div>\n",
       "<style scoped>\n",
       "    .dataframe tbody tr th:only-of-type {\n",
       "        vertical-align: middle;\n",
       "    }\n",
       "\n",
       "    .dataframe tbody tr th {\n",
       "        vertical-align: top;\n",
       "    }\n",
       "\n",
       "    .dataframe thead th {\n",
       "        text-align: right;\n",
       "    }\n",
       "</style>\n",
       "<table border=\"1\" class=\"dataframe\">\n",
       "  <thead>\n",
       "    <tr style=\"text-align: right;\">\n",
       "      <th></th>\n",
       "      <th>2244</th>\n",
       "      <th>1386</th>\n",
       "    </tr>\n",
       "  </thead>\n",
       "  <tbody>\n",
       "    <tr>\n",
       "      <th>popularity</th>\n",
       "      <td>0.25054</td>\n",
       "      <td>9.43277</td>\n",
       "    </tr>\n",
       "    <tr>\n",
       "      <th>budget</th>\n",
       "      <td>4.25e+08</td>\n",
       "      <td>2.37e+08</td>\n",
       "    </tr>\n",
       "    <tr>\n",
       "      <th>revenue</th>\n",
       "      <td>1.10876e+07</td>\n",
       "      <td>2.78151e+09</td>\n",
       "    </tr>\n",
       "    <tr>\n",
       "      <th>original_title</th>\n",
       "      <td>The Warrior's Way</td>\n",
       "      <td>Avatar</td>\n",
       "    </tr>\n",
       "    <tr>\n",
       "      <th>cast</th>\n",
       "      <td>Kate Bosworth|Jang Dong-gun|Geoffrey Rush|Dann...</td>\n",
       "      <td>Sam Worthington|Zoe Saldana|Sigourney Weaver|S...</td>\n",
       "    </tr>\n",
       "    <tr>\n",
       "      <th>director</th>\n",
       "      <td>Sngmoo Lee</td>\n",
       "      <td>James Cameron</td>\n",
       "    </tr>\n",
       "    <tr>\n",
       "      <th>runtime</th>\n",
       "      <td>100</td>\n",
       "      <td>162</td>\n",
       "    </tr>\n",
       "    <tr>\n",
       "      <th>genres</th>\n",
       "      <td>Adventure|Fantasy|Action|Western|Thriller</td>\n",
       "      <td>Action|Adventure|Fantasy|Science Fiction</td>\n",
       "    </tr>\n",
       "    <tr>\n",
       "      <th>release_date</th>\n",
       "      <td>2010-12-02 00:00:00</td>\n",
       "      <td>2009-12-10 00:00:00</td>\n",
       "    </tr>\n",
       "    <tr>\n",
       "      <th>release_year</th>\n",
       "      <td>2010</td>\n",
       "      <td>2009</td>\n",
       "    </tr>\n",
       "    <tr>\n",
       "      <th>profit</th>\n",
       "      <td>-4.13912e+08</td>\n",
       "      <td>2.54451e+09</td>\n",
       "    </tr>\n",
       "  </tbody>\n",
       "</table>\n",
       "</div>"
      ],
      "text/plain": [
       "                                                             2244  \\\n",
       "popularity                                                0.25054   \n",
       "budget                                                   4.25e+08   \n",
       "revenue                                               1.10876e+07   \n",
       "original_title                                  The Warrior's Way   \n",
       "cast            Kate Bosworth|Jang Dong-gun|Geoffrey Rush|Dann...   \n",
       "director                                               Sngmoo Lee   \n",
       "runtime                                                       100   \n",
       "genres                  Adventure|Fantasy|Action|Western|Thriller   \n",
       "release_date                                  2010-12-02 00:00:00   \n",
       "release_year                                                 2010   \n",
       "profit                                               -4.13912e+08   \n",
       "\n",
       "                                                             1386  \n",
       "popularity                                                9.43277  \n",
       "budget                                                   2.37e+08  \n",
       "revenue                                               2.78151e+09  \n",
       "original_title                                             Avatar  \n",
       "cast            Sam Worthington|Zoe Saldana|Sigourney Weaver|S...  \n",
       "director                                            James Cameron  \n",
       "runtime                                                       162  \n",
       "genres                   Action|Adventure|Fantasy|Science Fiction  \n",
       "release_date                                  2009-12-10 00:00:00  \n",
       "release_year                                                 2009  \n",
       "profit                                                2.54451e+09  "
      ]
     },
     "metadata": {},
     "output_type": "display_data"
    }
   ],
   "source": [
    "def highest_lowest(col):\n",
    "    highest_idx = df[col].idxmax()\n",
    "    highest = pd.DataFrame(df.loc[highest_idx])\n",
    "    lowest_idx = df[col].idxmin()\n",
    "    lowest = pd.DataFrame(df.loc[lowest_idx])\n",
    "    highest_lowest = pd.concat([lowest,highest],axis=1)\n",
    "    return highest_lowest\n",
    "display(highest_lowest('budget'))\n",
    "display(highest_lowest('revenue'))\n",
    "display(highest_lowest('profit'))"
   ]
  },
  {
   "cell_type": "markdown",
   "metadata": {},
   "source": [
    "#### The Film that had the lowest budget is  'Lost & Found'  and the film that had the highest budget is 'The Warrior's Way' \n",
    "#### The Film that had the lowest revenue is 'Shattered Glass'  and the film that had the highest revenue is 'Avatar'\n",
    "#### The Film that had the lowest profit is  'The Warrior's Way'  and the film that had the highest profit is 'Avatar'"
   ]
  },
  {
   "cell_type": "code",
   "execution_count": 135,
   "metadata": {},
   "outputs": [
    {
     "data": {
      "image/png": "[encoded data removed]",
      "text/plain": [
       "<matplotlib.figure.Figure at 0x7f0e84375cc0>"
      ]
     },
     "metadata": {
      "needs_background": "light"
     },
     "output_type": "display_data"
    }
   ],
   "source": [
    "#plot the relation between relase year and popularity\n",
    "sns.lmplot(x='release_year',y='popularity',data=df,size=6,aspect=2)\n",
    "plt.show()"
   ]
  },
  {
   "cell_type": "markdown",
   "metadata": {},
   "source": [
    "### The graph show that the popularity rasing over years"
   ]
  },
  {
   "cell_type": "code",
   "execution_count": 134,
   "metadata": {},
   "outputs": [
    {
     "data": {
      "image/png": "[encoded data removed]",
      "text/plain": [
       "<matplotlib.figure.Figure at 0x7f0e843f6630>"
      ]
     },
     "metadata": {
      "needs_background": "light"
     },
     "output_type": "display_data"
    }
   ],
   "source": [
    "#plot the relation between budget and profit\n",
    "sns.lmplot(x='budget',y='profit',data=df,size=6,aspect=2)\n",
    "plt.show()"
   ]
  },
  {
   "cell_type": "markdown",
   "metadata": {},
   "source": [
    "### The graph show that the profit raising when the budget raising"
   ]
  },
  {
   "cell_type": "code",
   "execution_count": 132,
   "metadata": {
    "scrolled": false
   },
   "outputs": [
    {
     "data": {
      "text/plain": [
       "director\n",
       "Steven Spielberg     7.467064e+09\n",
       "Peter Jackson        5.197245e+09\n",
       "James Cameron        5.081995e+09\n",
       "Michael Bay          3.557208e+09\n",
       "David Yates          3.379296e+09\n",
       "Christopher Nolan    3.162549e+09\n",
       "Chris Columbus       3.116632e+09\n",
       "George Lucas         2.955997e+09\n",
       "Robert Zemeckis      2.846691e+09\n",
       "J.J. Abrams          2.839170e+09\n",
       "Name: profit, dtype: float64"
      ]
     },
     "execution_count": 132,
     "metadata": {},
     "output_type": "execute_result"
    }
   ],
   "source": [
    "#identify the best directors\n",
    "director = df.groupby('director')['profit'].sum().sort_values(ascending=False).head(10)\n",
    "director"
   ]
  },
  {
   "cell_type": "code",
   "execution_count": 133,
   "metadata": {
    "scrolled": false
   },
   "outputs": [
    {
     "name": "stdout",
     "output_type": "stream",
     "text": [
      "0 Steven Spielberg\n",
      "1 Peter Jackson\n",
      "2 James Cameron\n",
      "3 Michael Bay\n",
      "4 David Yates\n",
      "5 Christopher Nolan\n",
      "6 Chris Columbus\n",
      "7 George Lucas\n",
      "8 Robert Zemeckis\n",
      "9 J.J. Abrams\n"
     ]
    }
   ],
   "source": [
    "for i,j in enumerate(director.index):\n",
    "    print(i,j)"
   ]
  },
  {
   "cell_type": "code",
   "execution_count": 129,
   "metadata": {},
   "outputs": [
    {
     "data": {
      "image/png": "[encoded data removed]",
      "text/plain": [
       "<matplotlib.figure.Figure at 0x7f0e84432a58>"
      ]
     },
     "metadata": {
      "needs_background": "light"
     },
     "output_type": "display_data"
    }
   ],
   "source": [
    "#plot the boxplot for runtime\n",
    "plt.figure(figsize=(8,6))\n",
    "df['runtime'].plot('box')\n",
    "plt.xlabel('Runtime')\n",
    "plt.ylabel('Duration')\n",
    "plt.title('Runtime Duration')\n",
    "plt.show()"
   ]
  },
  {
   "cell_type": "code",
   "execution_count": 128,
   "metadata": {},
   "outputs": [
    {
     "data": {
      "text/plain": [
       "109.21745908028059"
      ]
     },
     "execution_count": 128,
     "metadata": {},
     "output_type": "execute_result"
    }
   ],
   "source": [
    "#calculate the mean\n",
    "df['runtime'].mean()"
   ]
  },
  {
   "cell_type": "code",
   "execution_count": 137,
   "metadata": {},
   "outputs": [
    {
     "data": {
      "text/plain": [
       "146061578.94736841"
      ]
     },
     "execution_count": 137,
     "metadata": {},
     "output_type": "execute_result"
    }
   ],
   "source": [
    "budget = df[df['profit'] > 500000000]['budget'].mean()\n",
    "budget"
   ]
  },
  {
   "cell_type": "markdown",
   "metadata": {},
   "source": [
    "### The mean runtime for movies is 110 min"
   ]
  },
  {
   "cell_type": "markdown",
   "metadata": {},
   "source": [
    "<a id='conclusions'></a>\n",
    "## Conclusions\n",
    "\n",
    "> **Tip**: Finally, summarize your findings and the results that have been performed. Make sure that you are clear with regards to the limitations of your exploration. If you haven't done any statistical tests, do not imply any statistical conclusions. And make sure you avoid implying causation from correlation!\n",
    "\n",
    "> **Tip**: Once you are satisfied with your work here, check over your report to make sure that it is satisfies all the areas of the rubric (found on the project submission page at the end of the lesson). You should also probably remove all of the \"Tips\" like this one so that the presentation is as polished as possible.\n",
    "\n",
    "## Submitting your Project \n",
    "\n",
    "> Before you submit your project, you need to create a .html or .pdf version of this notebook in the workspace here. To do that, run the code cell below. If it worked correctly, you should get a return code of 0, and you should see the generated .html file in the workspace directory (click on the orange Jupyter icon in the upper left).\n",
    "\n",
    "> Alternatively, you can download this report as .html via the **File** > **Download as** submenu, and then manually upload it into the workspace directory by clicking on the orange Jupyter icon in the upper left, then using the Upload button.\n",
    "\n",
    "> Once you've done this, you can submit your project by clicking on the \"Submit Project\" button in the lower right here. This will create and submit a zip file with this .ipynb doc and the .html or .pdf version you created. Congratulations!"
   ]
  },
  {
   "cell_type": "code",
   "execution_count": 67,
   "metadata": {},
   "outputs": [
    {
     "data": {
      "text/html": [
       "<div>\n",
       "<style scoped>\n",
       "    .dataframe tbody tr th:only-of-type {\n",
       "        vertical-align: middle;\n",
       "    }\n",
       "\n",
       "    .dataframe tbody tr th {\n",
       "        vertical-align: top;\n",
       "    }\n",
       "\n",
       "    .dataframe thead th {\n",
       "        text-align: right;\n",
       "    }\n",
       "</style>\n",
       "<table border=\"1\" class=\"dataframe\">\n",
       "  <thead>\n",
       "    <tr style=\"text-align: right;\">\n",
       "      <th></th>\n",
       "      <th>count</th>\n",
       "      <th>mean</th>\n",
       "      <th>std</th>\n",
       "      <th>min</th>\n",
       "      <th>25%</th>\n",
       "      <th>50%</th>\n",
       "      <th>75%</th>\n",
       "      <th>max</th>\n",
       "    </tr>\n",
       "  </thead>\n",
       "  <tbody>\n",
       "    <tr>\n",
       "      <th>budget</th>\n",
       "      <td>3849.0</td>\n",
       "      <td>3.724886e+07</td>\n",
       "      <td>4.221699e+07</td>\n",
       "      <td>1.0</td>\n",
       "      <td>10000000.0</td>\n",
       "      <td>24000000.0</td>\n",
       "      <td>50000000.0</td>\n",
       "      <td>4.250000e+08</td>\n",
       "    </tr>\n",
       "    <tr>\n",
       "      <th>revenue</th>\n",
       "      <td>3849.0</td>\n",
       "      <td>1.078148e+08</td>\n",
       "      <td>1.766175e+08</td>\n",
       "      <td>2.0</td>\n",
       "      <td>13670688.0</td>\n",
       "      <td>44907260.0</td>\n",
       "      <td>124305181.0</td>\n",
       "      <td>2.781506e+09</td>\n",
       "    </tr>\n",
       "    <tr>\n",
       "      <th>runtime</th>\n",
       "      <td>3849.0</td>\n",
       "      <td>1.092175e+02</td>\n",
       "      <td>1.991414e+01</td>\n",
       "      <td>15.0</td>\n",
       "      <td>95.0</td>\n",
       "      <td>106.0</td>\n",
       "      <td>119.0</td>\n",
       "      <td>3.380000e+02</td>\n",
       "    </tr>\n",
       "    <tr>\n",
       "      <th>release_year</th>\n",
       "      <td>3849.0</td>\n",
       "      <td>2.001258e+03</td>\n",
       "      <td>1.128564e+01</td>\n",
       "      <td>1960.0</td>\n",
       "      <td>1995.0</td>\n",
       "      <td>2004.0</td>\n",
       "      <td>2010.0</td>\n",
       "      <td>2.015000e+03</td>\n",
       "    </tr>\n",
       "    <tr>\n",
       "      <th>profit</th>\n",
       "      <td>3849.0</td>\n",
       "      <td>7.056595e+07</td>\n",
       "      <td>1.506990e+08</td>\n",
       "      <td>-413912431.0</td>\n",
       "      <td>-1312284.0</td>\n",
       "      <td>20144499.0</td>\n",
       "      <td>81980662.0</td>\n",
       "      <td>2.544506e+09</td>\n",
       "    </tr>\n",
       "  </tbody>\n",
       "</table>\n",
       "</div>"
      ],
      "text/plain": [
       "               count          mean           std          min         25%  \\\n",
       "budget        3849.0  3.724886e+07  4.221699e+07          1.0  10000000.0   \n",
       "revenue       3849.0  1.078148e+08  1.766175e+08          2.0  13670688.0   \n",
       "runtime       3849.0  1.092175e+02  1.991414e+01         15.0        95.0   \n",
       "release_year  3849.0  2.001258e+03  1.128564e+01       1960.0      1995.0   \n",
       "profit        3849.0  7.056595e+07  1.506990e+08 -413912431.0  -1312284.0   \n",
       "\n",
       "                     50%          75%           max  \n",
       "budget        24000000.0   50000000.0  4.250000e+08  \n",
       "revenue       44907260.0  124305181.0  2.781506e+09  \n",
       "runtime            106.0        119.0  3.380000e+02  \n",
       "release_year      2004.0       2010.0  2.015000e+03  \n",
       "profit        20144499.0   81980662.0  2.544506e+09  "
      ]
     },
     "execution_count": 67,
     "metadata": {},
     "output_type": "execute_result"
    }
   ],
   "source": [
    "#create a statiscal summary for the data\n",
    "df.describe().T"
   ]
  },
  {
   "cell_type": "markdown",
   "metadata": {},
   "source": [
    "## Conclusion\n",
    "after performing all the analysis if we want to make a profitable movie we should use that:\n",
    "Budget : budget of the movie should be around "
   ]
  },
  {
   "cell_type": "markdown",
   "metadata": {},
   "source": [
    "## Limitations\n",
    "I want to make it clear, it's not 100 percent guaranteed solution that this formula is gonna work, meaning we are going to earn more than \\$50M! But it shows us that we have high probability of making high profits if we had similar characteristics as such. All these directors, actors, genres and released dates have a common trend of attraction. If we release a movie with these characteristics, it gives people high expectations from this movie. Thus attracting more people towards the movie but it ultimately comes down to story mainly and also other important influential factors. People having higher expectations gives us less probability of meeting their expectations. Even if the movie was worth, people's high expectations would lead in biased results ultimately effecting the profits. We also see this in real life specially in sequels of movies. This was just one example of an influantial factor that would lead to different results, there are many that have to be taken care of!\n",
    "\n",
    "And that's my conclusion!"
   ]
  },
  {
   "cell_type": "code",
   "execution_count": null,
   "metadata": {},
   "outputs": [],
   "source": [
    "from subprocess import call\n",
    "call(['python', '-m', 'nbconvert', 'Investigate_a_Dataset.ipynb'])"
   ]
  }
 ],
 "metadata": {
  "kernelspec": {
   "display_name": "Python 3",
   "language": "python",
   "name": "python3"
  },
  "language_info": {
   "codemirror_mode": {
    "name": "ipython",
    "version": 3
   },
   "file_extension": ".py",
   "mimetype": "text/x-python",
   "name": "python",
   "nbconvert_exporter": "python",
   "pygments_lexer": "ipython3",
   "version": "3.7.3"
  }
 },
 "nbformat": 4,
 "nbformat_minor": 2
}
